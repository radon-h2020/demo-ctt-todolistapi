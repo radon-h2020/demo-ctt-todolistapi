{
 "cells": [
  {
   "cell_type": "code",
   "execution_count": 1,
   "metadata": {},
   "outputs": [
    {
     "name": "stderr",
     "output_type": "stream",
     "text": [
      "Updating HTML index of packages in '.Library'\n",
      "\n",
      "Making 'packages.html' ...\n",
      " done\n",
      "\n",
      "Loading required package: DBI\n",
      "\n"
     ]
    }
   ],
   "source": [
    "install.packages(\"RPostgreSQL\")\n",
    "library(RPostgreSQL)"
   ]
  },
  {
   "cell_type": "code",
   "execution_count": 2,
   "metadata": {},
   "outputs": [
    {
     "data": {
      "text/html": [
       "<table class=\"dataframe\">\n",
       "<caption>A data.frame: 2 × 3</caption>\n",
       "<thead>\n",
       "\t<tr><th></th><th scope=col>id</th><th scope=col>name</th><th scope=col>created_at</th></tr>\n",
       "\t<tr><th></th><th scope=col>&lt;chr&gt;</th><th scope=col>&lt;chr&gt;</th><th scope=col>&lt;dttm&gt;</th></tr>\n",
       "</thead>\n",
       "<tbody>\n",
       "\t<tr><th scope=row>1</th><td>1628ba4d-8900-41a6-88a3-2c0868b53566</td><td>Sock Shop   </td><td>2021-04-15 16:47:07</td></tr>\n",
       "\t<tr><th scope=row>2</th><td>a0756ff7-13ae-4fec-99b9-2ca793e6b25c</td><td>Train ticket</td><td>2021-04-15 16:48:37</td></tr>\n",
       "</tbody>\n",
       "</table>\n"
      ],
      "text/latex": [
       "A data.frame: 2 × 3\n",
       "\\begin{tabular}{r|lll}\n",
       "  & id & name & created\\_at\\\\\n",
       "  & <chr> & <chr> & <dttm>\\\\\n",
       "\\hline\n",
       "\t1 & 1628ba4d-8900-41a6-88a3-2c0868b53566 & Sock Shop    & 2021-04-15 16:47:07\\\\\n",
       "\t2 & a0756ff7-13ae-4fec-99b9-2ca793e6b25c & Train ticket & 2021-04-15 16:48:37\\\\\n",
       "\\end{tabular}\n"
      ],
      "text/markdown": [
       "\n",
       "A data.frame: 2 × 3\n",
       "\n",
       "| <!--/--> | id &lt;chr&gt; | name &lt;chr&gt; | created_at &lt;dttm&gt; |\n",
       "|---|---|---|---|\n",
       "| 1 | 1628ba4d-8900-41a6-88a3-2c0868b53566 | Sock Shop    | 2021-04-15 16:47:07 |\n",
       "| 2 | a0756ff7-13ae-4fec-99b9-2ca793e6b25c | Train ticket | 2021-04-15 16:48:37 |\n",
       "\n"
      ],
      "text/plain": [
       "  id                                   name         created_at         \n",
       "1 1628ba4d-8900-41a6-88a3-2c0868b53566 Sock Shop    2021-04-15 16:47:07\n",
       "2 a0756ff7-13ae-4fec-99b9-2ca793e6b25c Train ticket 2021-04-15 16:48:37"
      ]
     },
     "metadata": {},
     "output_type": "display_data"
    }
   ],
   "source": [
    "db_connection <- DBI::dbConnect(dbDriver(drvName = \"PostgreSQL\"), dbname = Sys.getenv(\"DB_NAME\"), host=Sys.getenv(\"HOST_NAME\"), port=\"5432\", user=Sys.getenv(\"POSTGRES_USERNAME\"), password=Sys.getenv(\"POSTGRES_PASSWORD\"))  \n",
    "\n",
    "# List all projects\n",
    "sql_all_projects = \"SELECT id::text, name, created_at FROM projects\"\n",
    "dbGetQuery(db_connection, sql_all_projects)"
   ]
  },
  {
   "cell_type": "code",
   "execution_count": 3,
   "metadata": {},
   "outputs": [],
   "source": [
    "project_id = \"a0756ff7-13ae-4fec-99b9-2ca793e6b25c\""
   ]
  },
  {
   "cell_type": "code",
   "execution_count": 4,
   "metadata": {},
   "outputs": [
    {
     "data": {
      "text/html": [],
      "text/latex": [],
      "text/markdown": [],
      "text/plain": [
       "<0 x 0 matrix>"
      ]
     },
     "metadata": {},
     "output_type": "display_data"
    }
   ],
   "source": [
    "sql_operational_profile = \"\n",
    "    SELECT users, frequency FROM operational_profile_observations \n",
    "        WHERE operational_profile = (SELECT id FROM operational_profiles WHERE project = ?project)\"\n",
    "operational_profile <- dbGetQuery(db_connection, sqlInterpolate(db_connection, sql_operational_profile, project = project_id))\n",
    "\n",
    "operational_profile"
   ]
  },
  {
   "cell_type": "code",
   "execution_count": 5,
   "metadata": {},
   "outputs": [
    {
     "data": {
      "text/html": [
       "<table class=\"dataframe\">\n",
       "<caption>A data.frame: 5 × 3</caption>\n",
       "<thead>\n",
       "\t<tr><th></th><th scope=col>id</th><th scope=col>name</th><th scope=col>created_at</th></tr>\n",
       "\t<tr><th></th><th scope=col>&lt;chr&gt;</th><th scope=col>&lt;chr&gt;</th><th scope=col>&lt;dttm&gt;</th></tr>\n",
       "</thead>\n",
       "<tbody>\n",
       "\t<tr><th scope=row>1</th><td>337ddfc4-d4dc-4a9b-bb15-81e8a84d300f</td><td>202104151616-t1-test1</td><td>2021-04-15 16:16:00</td></tr>\n",
       "\t<tr><th scope=row>2</th><td>ced50b05-b650-4d8c-bbd0-015228bdde60</td><td>202104151624-t1-test2</td><td>2021-04-15 16:24:52</td></tr>\n",
       "\t<tr><th scope=row>3</th><td>ac42e03f-5796-499a-aad9-8bdac04b8282</td><td>202104151737-t1-test1</td><td>2021-04-15 17:37:38</td></tr>\n",
       "\t<tr><th scope=row>4</th><td>1c4b2b95-5910-44eb-9269-8b3cbbd0486a</td><td>202104151745-t1-test2</td><td>2021-04-15 17:45:32</td></tr>\n",
       "\t<tr><th scope=row>5</th><td>cee9200b-82c8-435b-ab14-ee37edfd36cf</td><td>202104281526-tt-test2</td><td>2021-04-28 15:26:50</td></tr>\n",
       "</tbody>\n",
       "</table>\n"
      ],
      "text/latex": [
       "A data.frame: 5 × 3\n",
       "\\begin{tabular}{r|lll}\n",
       "  & id & name & created\\_at\\\\\n",
       "  & <chr> & <chr> & <dttm>\\\\\n",
       "\\hline\n",
       "\t1 & 337ddfc4-d4dc-4a9b-bb15-81e8a84d300f & 202104151616-t1-test1 & 2021-04-15 16:16:00\\\\\n",
       "\t2 & ced50b05-b650-4d8c-bbd0-015228bdde60 & 202104151624-t1-test2 & 2021-04-15 16:24:52\\\\\n",
       "\t3 & ac42e03f-5796-499a-aad9-8bdac04b8282 & 202104151737-t1-test1 & 2021-04-15 17:37:38\\\\\n",
       "\t4 & 1c4b2b95-5910-44eb-9269-8b3cbbd0486a & 202104151745-t1-test2 & 2021-04-15 17:45:32\\\\\n",
       "\t5 & cee9200b-82c8-435b-ab14-ee37edfd36cf & 202104281526-tt-test2 & 2021-04-28 15:26:50\\\\\n",
       "\\end{tabular}\n"
      ],
      "text/markdown": [
       "\n",
       "A data.frame: 5 × 3\n",
       "\n",
       "| <!--/--> | id &lt;chr&gt; | name &lt;chr&gt; | created_at &lt;dttm&gt; |\n",
       "|---|---|---|---|\n",
       "| 1 | 337ddfc4-d4dc-4a9b-bb15-81e8a84d300f | 202104151616-t1-test1 | 2021-04-15 16:16:00 |\n",
       "| 2 | ced50b05-b650-4d8c-bbd0-015228bdde60 | 202104151624-t1-test2 | 2021-04-15 16:24:52 |\n",
       "| 3 | ac42e03f-5796-499a-aad9-8bdac04b8282 | 202104151737-t1-test1 | 2021-04-15 17:37:38 |\n",
       "| 4 | 1c4b2b95-5910-44eb-9269-8b3cbbd0486a | 202104151745-t1-test2 | 2021-04-15 17:45:32 |\n",
       "| 5 | cee9200b-82c8-435b-ab14-ee37edfd36cf | 202104281526-tt-test2 | 2021-04-28 15:26:50 |\n",
       "\n"
      ],
      "text/plain": [
       "  id                                   name                 \n",
       "1 337ddfc4-d4dc-4a9b-bb15-81e8a84d300f 202104151616-t1-test1\n",
       "2 ced50b05-b650-4d8c-bbd0-015228bdde60 202104151624-t1-test2\n",
       "3 ac42e03f-5796-499a-aad9-8bdac04b8282 202104151737-t1-test1\n",
       "4 1c4b2b95-5910-44eb-9269-8b3cbbd0486a 202104151745-t1-test2\n",
       "5 cee9200b-82c8-435b-ab14-ee37edfd36cf 202104281526-tt-test2\n",
       "  created_at         \n",
       "1 2021-04-15 16:16:00\n",
       "2 2021-04-15 16:24:52\n",
       "3 2021-04-15 17:37:38\n",
       "4 2021-04-15 17:45:32\n",
       "5 2021-04-28 15:26:50"
      ]
     },
     "metadata": {},
     "output_type": "display_data"
    }
   ],
   "source": [
    "sql_all_tests = \"SELECT id::text, name, created_at FROM tests WHERE project = ?project\"\n",
    "dbGetQuery(db_connection, sqlInterpolate(db_connection, sql_all_tests, project = project_id))"
   ]
  },
  {
   "cell_type": "code",
   "execution_count": 6,
   "metadata": {},
   "outputs": [
    {
     "data": {
      "text/html": [
       "<table class=\"dataframe\">\n",
       "<caption>A data.frame: 2 × 2</caption>\n",
       "<thead>\n",
       "\t<tr><th></th><th scope=col>id</th><th scope=col>name</th></tr>\n",
       "\t<tr><th></th><th scope=col>&lt;chr&gt;</th><th scope=col>&lt;chr&gt;</th></tr>\n",
       "</thead>\n",
       "<tbody>\n",
       "\t<tr><th scope=row>1</th><td>01ae9f1c-a1cc-4309-a4d8-2ae9ded2bbb2</td><td>a</td></tr>\n",
       "\t<tr><th scope=row>2</th><td>ee2dc400-9a92-4f00-89c5-8fbda4e4a57e</td><td>b</td></tr>\n",
       "</tbody>\n",
       "</table>\n"
      ],
      "text/latex": [
       "A data.frame: 2 × 2\n",
       "\\begin{tabular}{r|ll}\n",
       "  & id & name\\\\\n",
       "  & <chr> & <chr>\\\\\n",
       "\\hline\n",
       "\t1 & 01ae9f1c-a1cc-4309-a4d8-2ae9ded2bbb2 & a\\\\\n",
       "\t2 & ee2dc400-9a92-4f00-89c5-8fbda4e4a57e & b\\\\\n",
       "\\end{tabular}\n"
      ],
      "text/markdown": [
       "\n",
       "A data.frame: 2 × 2\n",
       "\n",
       "| <!--/--> | id &lt;chr&gt; | name &lt;chr&gt; |\n",
       "|---|---|---|\n",
       "| 1 | 01ae9f1c-a1cc-4309-a4d8-2ae9ded2bbb2 | a |\n",
       "| 2 | ee2dc400-9a92-4f00-89c5-8fbda4e4a57e | b |\n",
       "\n"
      ],
      "text/plain": [
       "  id                                   name\n",
       "1 01ae9f1c-a1cc-4309-a4d8-2ae9ded2bbb2 a   \n",
       "2 ee2dc400-9a92-4f00-89c5-8fbda4e4a57e b   "
      ]
     },
     "metadata": {},
     "output_type": "display_data"
    }
   ],
   "source": [
    "sql_all_test_sets = \"SELECT id::text, name FROM test_sets WHERE project = ?project\"\n",
    "dbGetQuery(db_connection, sqlInterpolate(db_connection, sql_all_test_sets, project = project_id))"
   ]
  },
  {
   "cell_type": "code",
   "execution_count": 7,
   "metadata": {},
   "outputs": [
    {
     "data": {
      "text/html": [
       "<table class=\"dataframe\">\n",
       "<caption>A data.frame: 2 × 2</caption>\n",
       "<thead>\n",
       "\t<tr><th></th><th scope=col>id</th><th scope=col>name</th></tr>\n",
       "\t<tr><th></th><th scope=col>&lt;chr&gt;</th><th scope=col>&lt;chr&gt;</th></tr>\n",
       "</thead>\n",
       "<tbody>\n",
       "\t<tr><th scope=row>1</th><td>989a0d57-c824-4ff5-ae87-3df008b80257</td><td>home_expected         </td></tr>\n",
       "\t<tr><th scope=row>2</th><td>47eb2e91-f863-4c0b-a8d2-66f5ce8f0dae</td><td>search_ticket_expected</td></tr>\n",
       "</tbody>\n",
       "</table>\n"
      ],
      "text/latex": [
       "A data.frame: 2 × 2\n",
       "\\begin{tabular}{r|ll}\n",
       "  & id & name\\\\\n",
       "  & <chr> & <chr>\\\\\n",
       "\\hline\n",
       "\t1 & 989a0d57-c824-4ff5-ae87-3df008b80257 & home\\_expected         \\\\\n",
       "\t2 & 47eb2e91-f863-4c0b-a8d2-66f5ce8f0dae & search\\_ticket\\_expected\\\\\n",
       "\\end{tabular}\n"
      ],
      "text/markdown": [
       "\n",
       "A data.frame: 2 × 2\n",
       "\n",
       "| <!--/--> | id &lt;chr&gt; | name &lt;chr&gt; |\n",
       "|---|---|---|\n",
       "| 1 | 989a0d57-c824-4ff5-ae87-3df008b80257 | home_expected          |\n",
       "| 2 | 47eb2e91-f863-4c0b-a8d2-66f5ce8f0dae | search_ticket_expected |\n",
       "\n"
      ],
      "text/plain": [
       "  id                                   name                  \n",
       "1 989a0d57-c824-4ff5-ae87-3df008b80257 home_expected         \n",
       "2 47eb2e91-f863-4c0b-a8d2-66f5ce8f0dae search_ticket_expected"
      ]
     },
     "metadata": {},
     "output_type": "display_data"
    }
   ],
   "source": [
    "sql_all_items = \"SELECT id::text, name FROM items WHERE project = ?project\"\n",
    "dbGetQuery(db_connection, sqlInterpolate(db_connection, sql_all_items, project = project_id))"
   ]
  },
  {
   "cell_type": "code",
   "execution_count": 8,
   "metadata": {},
   "outputs": [
    {
     "data": {
      "text/html": [
       "<table class=\"dataframe\">\n",
       "<caption>A data.frame: 5 × 6</caption>\n",
       "<thead>\n",
       "\t<tr><th></th><th scope=col>test_id</th><th scope=col>test_set_id</th><th scope=col>created_at</th><th scope=col>metric</th><th scope=col>item_name</th><th scope=col>item_value</th></tr>\n",
       "\t<tr><th></th><th scope=col>&lt;chr&gt;</th><th scope=col>&lt;chr&gt;</th><th scope=col>&lt;dttm&gt;</th><th scope=col>&lt;chr&gt;</th><th scope=col>&lt;chr&gt;</th><th scope=col>&lt;dbl&gt;</th></tr>\n",
       "</thead>\n",
       "<tbody>\n",
       "\t<tr><th scope=row>1</th><td>337ddfc4-d4dc-4a9b-bb15-81e8a84d300f</td><td>01ae9f1c-a1cc-4309-a4d8-2ae9ded2bbb2</td><td>2021-04-15 16:16:00</td><td>mrt</td><td>search_ticket_expected</td><td>  2</td></tr>\n",
       "\t<tr><th scope=row>2</th><td>ced50b05-b650-4d8c-bbd0-015228bdde60</td><td>ee2dc400-9a92-4f00-89c5-8fbda4e4a57e</td><td>2021-04-15 16:24:52</td><td>mrt</td><td>search_ticket_expected</td><td>160</td></tr>\n",
       "\t<tr><th scope=row>3</th><td>ac42e03f-5796-499a-aad9-8bdac04b8282</td><td>01ae9f1c-a1cc-4309-a4d8-2ae9ded2bbb2</td><td>2021-04-15 17:37:38</td><td>mrt</td><td>search_ticket_expected</td><td>250</td></tr>\n",
       "\t<tr><th scope=row>4</th><td>1c4b2b95-5910-44eb-9269-8b3cbbd0486a</td><td>ee2dc400-9a92-4f00-89c5-8fbda4e4a57e</td><td>2021-04-15 17:45:32</td><td>mrt</td><td>search_ticket_expected</td><td>150</td></tr>\n",
       "\t<tr><th scope=row>5</th><td>cee9200b-82c8-435b-ab14-ee37edfd36cf</td><td>ee2dc400-9a92-4f00-89c5-8fbda4e4a57e</td><td>2021-04-28 15:26:50</td><td>mrt</td><td>search_ticket_expected</td><td>170</td></tr>\n",
       "</tbody>\n",
       "</table>\n"
      ],
      "text/latex": [
       "A data.frame: 5 × 6\n",
       "\\begin{tabular}{r|llllll}\n",
       "  & test\\_id & test\\_set\\_id & created\\_at & metric & item\\_name & item\\_value\\\\\n",
       "  & <chr> & <chr> & <dttm> & <chr> & <chr> & <dbl>\\\\\n",
       "\\hline\n",
       "\t1 & 337ddfc4-d4dc-4a9b-bb15-81e8a84d300f & 01ae9f1c-a1cc-4309-a4d8-2ae9ded2bbb2 & 2021-04-15 16:16:00 & mrt & search\\_ticket\\_expected &   2\\\\\n",
       "\t2 & ced50b05-b650-4d8c-bbd0-015228bdde60 & ee2dc400-9a92-4f00-89c5-8fbda4e4a57e & 2021-04-15 16:24:52 & mrt & search\\_ticket\\_expected & 160\\\\\n",
       "\t3 & ac42e03f-5796-499a-aad9-8bdac04b8282 & 01ae9f1c-a1cc-4309-a4d8-2ae9ded2bbb2 & 2021-04-15 17:37:38 & mrt & search\\_ticket\\_expected & 250\\\\\n",
       "\t4 & 1c4b2b95-5910-44eb-9269-8b3cbbd0486a & ee2dc400-9a92-4f00-89c5-8fbda4e4a57e & 2021-04-15 17:45:32 & mrt & search\\_ticket\\_expected & 150\\\\\n",
       "\t5 & cee9200b-82c8-435b-ab14-ee37edfd36cf & ee2dc400-9a92-4f00-89c5-8fbda4e4a57e & 2021-04-28 15:26:50 & mrt & search\\_ticket\\_expected & 170\\\\\n",
       "\\end{tabular}\n"
      ],
      "text/markdown": [
       "\n",
       "A data.frame: 5 × 6\n",
       "\n",
       "| <!--/--> | test_id &lt;chr&gt; | test_set_id &lt;chr&gt; | created_at &lt;dttm&gt; | metric &lt;chr&gt; | item_name &lt;chr&gt; | item_value &lt;dbl&gt; |\n",
       "|---|---|---|---|---|---|---|\n",
       "| 1 | 337ddfc4-d4dc-4a9b-bb15-81e8a84d300f | 01ae9f1c-a1cc-4309-a4d8-2ae9ded2bbb2 | 2021-04-15 16:16:00 | mrt | search_ticket_expected |   2 |\n",
       "| 2 | ced50b05-b650-4d8c-bbd0-015228bdde60 | ee2dc400-9a92-4f00-89c5-8fbda4e4a57e | 2021-04-15 16:24:52 | mrt | search_ticket_expected | 160 |\n",
       "| 3 | ac42e03f-5796-499a-aad9-8bdac04b8282 | 01ae9f1c-a1cc-4309-a4d8-2ae9ded2bbb2 | 2021-04-15 17:37:38 | mrt | search_ticket_expected | 250 |\n",
       "| 4 | 1c4b2b95-5910-44eb-9269-8b3cbbd0486a | ee2dc400-9a92-4f00-89c5-8fbda4e4a57e | 2021-04-15 17:45:32 | mrt | search_ticket_expected | 150 |\n",
       "| 5 | cee9200b-82c8-435b-ab14-ee37edfd36cf | ee2dc400-9a92-4f00-89c5-8fbda4e4a57e | 2021-04-28 15:26:50 | mrt | search_ticket_expected | 170 |\n",
       "\n"
      ],
      "text/plain": [
       "  test_id                              test_set_id                         \n",
       "1 337ddfc4-d4dc-4a9b-bb15-81e8a84d300f 01ae9f1c-a1cc-4309-a4d8-2ae9ded2bbb2\n",
       "2 ced50b05-b650-4d8c-bbd0-015228bdde60 ee2dc400-9a92-4f00-89c5-8fbda4e4a57e\n",
       "3 ac42e03f-5796-499a-aad9-8bdac04b8282 01ae9f1c-a1cc-4309-a4d8-2ae9ded2bbb2\n",
       "4 1c4b2b95-5910-44eb-9269-8b3cbbd0486a ee2dc400-9a92-4f00-89c5-8fbda4e4a57e\n",
       "5 cee9200b-82c8-435b-ab14-ee37edfd36cf ee2dc400-9a92-4f00-89c5-8fbda4e4a57e\n",
       "  created_at          metric item_name              item_value\n",
       "1 2021-04-15 16:16:00 mrt    search_ticket_expected   2       \n",
       "2 2021-04-15 16:24:52 mrt    search_ticket_expected 160       \n",
       "3 2021-04-15 17:37:38 mrt    search_ticket_expected 250       \n",
       "4 2021-04-15 17:45:32 mrt    search_ticket_expected 150       \n",
       "5 2021-04-28 15:26:50 mrt    search_ticket_expected 170       "
      ]
     },
     "metadata": {},
     "output_type": "display_data"
    }
   ],
   "source": [
    "sql_all_data = \"\n",
    "    SELECT tests.id::text AS test_id, test_sets.id::text AS test_set_id, results.created_at::timestamp, metrics.abbreviation AS metric, items.name AS item_name, results.value AS item_value\n",
    "        FROM results \n",
    "        INNER JOIN tests ON results.test = tests.id\n",
    "        INNER JOIN items ON results.item = items.id\n",
    "        INNER JOIN metrics ON results.metric = metrics.id \n",
    "        INNER JOIN test_set_tests ON test_set_tests.test = tests.id\n",
    "        INNER JOIN test_sets ON (test_sets.id = test_set_tests.test_set AND test_sets.project = tests.project)\n",
    "        WHERE metrics.abbreviation='mrt' AND items.name='search_ticket_expected' AND tests.project = ?project\"\n",
    "all_data = dbGetQuery(db_connection, sqlInterpolate(db_connection, sql_all_data, project = project_id))\n",
    "\n",
    "all_data"
   ]
  },
  {
   "cell_type": "code",
   "execution_count": 9,
   "metadata": {
    "tags": []
   },
   "outputs": [],
   "source": [
    "library(ggplot2)"
   ]
  },
  {
   "cell_type": "code",
   "execution_count": 10,
   "metadata": {
    "tags": []
   },
   "outputs": [
    {
     "data": {
      "image/png": "[encoded data removed]",
      "text/plain": [
       "plot without title"
      ]
     },
     "metadata": {
      "image/png": {
       "height": 420,
       "width": 420
      }
     },
     "output_type": "display_data"
    }
   ],
   "source": [
    "ggplot(all_data, aes(x=created_at, y=item_value)) + \n",
    "geom_line(color=\"steelblue\") + \n",
    "geom_point() +\n",
    "theme(text = element_text(size=20), axis.text.x = element_text(angle=90, hjust=1)) +\n",
    "labs(y=\"Mean response time (s)\", x = \"Creation time\")"
   ]
  },
  {
   "cell_type": "code",
   "execution_count": 11,
   "metadata": {
    "tags": []
   },
   "outputs": [
    {
     "data": {
      "text/html": [
       "TRUE"
      ],
      "text/latex": [
       "TRUE"
      ],
      "text/markdown": [
       "TRUE"
      ],
      "text/plain": [
       "[1] TRUE"
      ]
     },
     "metadata": {},
     "output_type": "display_data"
    }
   ],
   "source": [
    "DBI::dbDisconnect(db_connection)"
   ]
  },
  {
   "cell_type": "code",
   "execution_count": null,
   "metadata": {},
   "outputs": [],
   "source": []
  }
 ],
 "metadata": {
  "kernelspec": {
   "display_name": "R",
   "language": "R",
   "name": "ir"
  },
  "language_info": {
   "codemirror_mode": "r",
   "file_extension": ".r",
   "mimetype": "text/x-r-source",
   "name": "R",
   "pygments_lexer": "r",
   "version": "4.0.3"
  }
 },
 "nbformat": 4,
 "nbformat_minor": 4
}
